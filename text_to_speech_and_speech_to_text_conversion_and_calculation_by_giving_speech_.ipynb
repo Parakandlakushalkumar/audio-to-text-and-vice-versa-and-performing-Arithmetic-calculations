{
  "nbformat": 4,
  "nbformat_minor": 0,
  "metadata": {
    "colab": {
      "provenance": []
    },
    "kernelspec": {
      "name": "python3",
      "display_name": "Python 3"
    },
    "language_info": {
      "name": "python"
    }
  },
  "cells": [
    {
      "cell_type": "code",
      "execution_count": null,
      "metadata": {
        "colab": {
          "base_uri": "https://localhost:8080/"
        },
        "id": "JLkBHInYBMjY",
        "outputId": "8b3df65a-d64a-4b36-9f94-c67d200723d4"
      },
      "outputs": [
        {
          "output_type": "stream",
          "name": "stdout",
          "text": [
            "Requirement already satisfied: gtts in /usr/local/lib/python3.11/dist-packages (2.5.4)\n",
            "Requirement already satisfied: requests<3,>=2.27 in /usr/local/lib/python3.11/dist-packages (from gtts) (2.32.3)\n",
            "Requirement already satisfied: click<8.2,>=7.1 in /usr/local/lib/python3.11/dist-packages (from gtts) (8.1.8)\n",
            "Requirement already satisfied: charset-normalizer<4,>=2 in /usr/local/lib/python3.11/dist-packages (from requests<3,>=2.27->gtts) (3.4.2)\n",
            "Requirement already satisfied: idna<4,>=2.5 in /usr/local/lib/python3.11/dist-packages (from requests<3,>=2.27->gtts) (3.10)\n",
            "Requirement already satisfied: urllib3<3,>=1.21.1 in /usr/local/lib/python3.11/dist-packages (from requests<3,>=2.27->gtts) (2.4.0)\n",
            "Requirement already satisfied: certifi>=2017.4.17 in /usr/local/lib/python3.11/dist-packages (from requests<3,>=2.27->gtts) (2025.4.26)\n"
          ]
        }
      ],
      "source": [
        "!pip install gtts"
      ]
    },
    {
      "cell_type": "code",
      "source": [
        "from gtts import gTTS"
      ],
      "metadata": {
        "id": "DIcrys1MCBuL"
      },
      "execution_count": null,
      "outputs": []
    },
    {
      "cell_type": "code",
      "source": [
        "#google text to speech\n",
        "text = 'Hello there'"
      ],
      "metadata": {
        "id": "nc11rdgWCJF6"
      },
      "execution_count": null,
      "outputs": []
    },
    {
      "cell_type": "code",
      "source": [
        "lang ='en'\n",
        "#it converted the text into audio and stored into res variable\n",
        "res=gTTS(text=text, lang=lang, slow = False)"
      ],
      "metadata": {
        "id": "bYc1CnhWCRtI"
      },
      "execution_count": null,
      "outputs": []
    },
    {
      "cell_type": "code",
      "source": [
        "#saved into an audio file mps\n",
        "res.save('audio.mp3')"
      ],
      "metadata": {
        "id": "fuDD-AKsChph"
      },
      "execution_count": null,
      "outputs": []
    },
    {
      "cell_type": "code",
      "source": [
        "#we can listen the sound also\n",
        "from IPython.display import Audio\n",
        "\n",
        "# Load and play the audio file\n",
        "Audio('audio.mp3')"
      ],
      "metadata": {
        "id": "zGmDQy9QCyUw",
        "colab": {
          "base_uri": "https://localhost:8080/",
          "height": 76
        },
        "outputId": "b7763590-76d0-45be-9100-bfc3b6b78518"
      },
      "execution_count": 53,
      "outputs": [
        {
          "output_type": "execute_result",
          "data": {
            "text/plain": [
              "<IPython.lib.display.Audio object>"
            ],
            "text/html": [
              "\n",
              "                <audio  controls=\"controls\" >\n",
              "                    <source src=\"data:audio/mpeg;base64,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\" type=\"audio/mpeg\" />\n",
              "                    Your browser does not support the audio element.\n",
              "                </audio>\n",
              "              "
            ]
          },
          "metadata": {},
          "execution_count": 53
        }
      ]
    },
    {
      "cell_type": "code",
      "source": [
        "#speech to text conversion"
      ],
      "metadata": {
        "id": "jO3qn9sLDJzF"
      },
      "execution_count": null,
      "outputs": []
    },
    {
      "cell_type": "code",
      "source": [
        "!pip install SpeechRecognition"
      ],
      "metadata": {
        "colab": {
          "base_uri": "https://localhost:8080/"
        },
        "id": "TvKBZBRlDMRY",
        "outputId": "edb7489a-2007-4873-852d-38118a46400b"
      },
      "execution_count": null,
      "outputs": [
        {
          "output_type": "stream",
          "name": "stdout",
          "text": [
            "Requirement already satisfied: SpeechRecognition in /usr/local/lib/python3.11/dist-packages (3.14.3)\n",
            "Requirement already satisfied: typing-extensions in /usr/local/lib/python3.11/dist-packages (from SpeechRecognition) (4.13.2)\n"
          ]
        }
      ]
    },
    {
      "cell_type": "code",
      "source": [
        "import speech_recognition as sr"
      ],
      "metadata": {
        "id": "K-Y8e7-MDTpR"
      },
      "execution_count": null,
      "outputs": []
    },
    {
      "cell_type": "code",
      "source": [
        "#creating a wave file that is understandable by machine"
      ],
      "metadata": {
        "id": "4AyVHoXlDh3y"
      },
      "execution_count": null,
      "outputs": []
    },
    {
      "cell_type": "code",
      "source": [
        "model = sr.Recognizer()"
      ],
      "metadata": {
        "id": "bh_yBcKNDmss"
      },
      "execution_count": null,
      "outputs": []
    },
    {
      "cell_type": "code",
      "source": [
        "!pip install pydub"
      ],
      "metadata": {
        "colab": {
          "base_uri": "https://localhost:8080/"
        },
        "id": "62KzKwF1Et-K",
        "outputId": "767d8707-b102-460b-ecb0-7cbdd59fc011"
      },
      "execution_count": null,
      "outputs": [
        {
          "output_type": "stream",
          "name": "stdout",
          "text": [
            "Requirement already satisfied: pydub in /usr/local/lib/python3.11/dist-packages (0.25.1)\n"
          ]
        }
      ]
    },
    {
      "cell_type": "code",
      "source": [
        "mp3_file = r'/content/audio.mp3'\n",
        "from pydub import AudioSegment\n",
        "from pydub.playback import play\n",
        "audio = AudioSegment.from_mp3(mp3_file)  # convert mp3 to wav\n",
        "audio.export(\"temp.wav\", format=\"wav\")\n"
      ],
      "metadata": {
        "colab": {
          "base_uri": "https://localhost:8080/"
        },
        "id": "oyFxP4hWEjL3",
        "outputId": "0d0bcee3-5911-49bf-e35e-764f63031158"
      },
      "execution_count": null,
      "outputs": [
        {
          "output_type": "execute_result",
          "data": {
            "text/plain": [
              "<_io.BufferedRandom name='temp.wav'>"
            ]
          },
          "metadata": {},
          "execution_count": 50
        }
      ]
    },
    {
      "cell_type": "code",
      "source": [
        "audio_file = r'/content/temp.wav'\n",
        "with sr.AudioFile(audio_file) as source:\n",
        "    audio_data = model.record(source)\n",
        "    text = model.recognize_google(audio_data)\n",
        "text\n"
      ],
      "metadata": {
        "colab": {
          "base_uri": "https://localhost:8080/",
          "height": 36
        },
        "id": "BBq_TY-3Ej2N",
        "outputId": "09a847cc-c58b-4101-e322-e7b228307b9d"
      },
      "execution_count": null,
      "outputs": [
        {
          "output_type": "execute_result",
          "data": {
            "text/plain": [
              "'hello buddy'"
            ],
            "application/vnd.google.colaboratory.intrinsic+json": {
              "type": "string"
            }
          },
          "metadata": {},
          "execution_count": 51
        }
      ]
    },
    {
      "cell_type": "code",
      "source": [
        "#claculation via using an audio like 5+5"
      ],
      "metadata": {
        "id": "ElWoCjZPDxny"
      },
      "execution_count": null,
      "outputs": []
    },
    {
      "cell_type": "code",
      "source": [
        "#we uses pydub"
      ],
      "metadata": {
        "id": "sRLNC2UbNRAI"
      },
      "execution_count": 54,
      "outputs": []
    },
    {
      "cell_type": "code",
      "source": [
        "# for generation of audio file\n",
        "\n",
        "\n",
        "# Text to be converted to speech\n",
        "text = \"5 plus 6\"\n",
        "\n",
        "# Convert text to speech\n",
        "tts = gTTS(text)\n",
        "\n",
        "# Save the audio file\n",
        "tts.save(\"audio.mp3\")\n",
        "\n",
        "print(\"Audio file 'audio.mp3' created successfully.\")\n"
      ],
      "metadata": {
        "colab": {
          "base_uri": "https://localhost:8080/"
        },
        "id": "khxqdgVhOXZg",
        "outputId": "764a73d9-9c9c-44c7-cd7d-e17ed6fe8205"
      },
      "execution_count": 57,
      "outputs": [
        {
          "output_type": "stream",
          "name": "stdout",
          "text": [
            "Audio file 'audio.mp3' created successfully.\n"
          ]
        }
      ]
    },
    {
      "cell_type": "code",
      "source": [
        "import speech_recognition as sr\n",
        "from pydub import AudioSegment\n",
        "\n",
        "# STEP 1: Convert mp3 to wav (if needed)\n",
        "mp3_file = \"audio.mp3\"  # Input file with speech like \"5 plus 5\"\n",
        "wav_file = \"temp.wav\"\n",
        "audio = AudioSegment.from_mp3(mp3_file)\n",
        "audio.export(wav_file, format=\"wav\")\n",
        "\n",
        "# STEP 2: Recognize speech\n",
        "recognizer = sr.Recognizer()\n",
        "with sr.AudioFile(wav_file) as source:\n",
        "    audio_data = recognizer.record(source)\n",
        "    text = recognizer.recognize_google(audio_data)\n",
        "\n",
        "print(\"Recognized text:\", text)\n",
        "\n",
        "# STEP 3: Parse and evaluate (e.g., \"5 plus 5\" → 10)\n",
        "def evaluate_expression(spoken_text):\n",
        "    spoken_text = spoken_text.lower().replace(\"plus\", \"+\")  # unify to \"+\"\n",
        "    words = spoken_text.split()\n",
        "\n",
        "    if \"+\" in words:\n",
        "        try:\n",
        "            idx = words.index(\"+\")\n",
        "            num1 = int(words[idx - 1])\n",
        "            num2 = int(words[idx + 1])\n",
        "            return num1 + num2\n",
        "        except:\n",
        "            return \"Error in parsing numbers.\"\n",
        "    return \"Unsupported expression.\"\n",
        "\n",
        "\n",
        "# STEP 4: Output result\n",
        "result = evaluate_expression(text)\n",
        "print(\"Answer:\", result)\n"
      ],
      "metadata": {
        "colab": {
          "base_uri": "https://localhost:8080/"
        },
        "id": "WRlHZY1RNSoC",
        "outputId": "312d74ff-83be-461d-af12-657a77fa8192"
      },
      "execution_count": 59,
      "outputs": [
        {
          "output_type": "stream",
          "name": "stdout",
          "text": [
            "Recognized text: 5 + 6\n",
            "Answer: 11\n"
          ]
        }
      ]
    }
  ]
}